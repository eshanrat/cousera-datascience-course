{
    "nbformat_minor": 1, 
    "cells": [
        {
            "source": "<h1>Eshan Ratnayake Data Science Capstone Project </h1>", 
            "cell_type": "markdown", 
            "metadata": {
                "collapsed": true
            }
        }, 
        {
            "source": "Dataset obtained from Kaggle: https://www.kaggle.com/mnabaee/ontarioproperties", 
            "cell_type": "markdown", 
            "metadata": {}
        }, 
        {
            "source": "Chinese gentleman immigrating from China to Canada for work. Will be working at the TD Tower in Downtown Toronto. He wants to buy a property to live in.\n\nHe needs to find a place that is close to work, inexpensive, and have some elements of China that make is easy to fit in. We will be analyzing the neighbourhoods in the dataset and their prices, proximity to work, and their accessbility to chinese venues.", 
            "cell_type": "markdown", 
            "metadata": {}
        }, 
        {
            "source": "<h2>Cleaning Data Set</h2>", 
            "cell_type": "markdown", 
            "metadata": {}
        }, 
        {
            "execution_count": 9, 
            "cell_type": "code", 
            "metadata": {}, 
            "outputs": [], 
            "source": "# The code was removed by Watson Studio for sharing."
        }, 
        {
            "execution_count": 10, 
            "cell_type": "code", 
            "metadata": {}, 
            "outputs": [
                {
                    "execution_count": 10, 
                    "metadata": {}, 
                    "data": {
                        "text/plain": "(24868, 5)"
                    }, 
                    "output_type": "execute_result"
                }
            ], 
            "source": "# ensure that all prices are not strings, and duplciates are removed\ndf_ontario_housing['Price'] = df_ontario_housing.Price.astype(int)\ndf_ontario_housing.drop_duplicates\ndf_ontario_housing.shape"
        }, 
        {
            "execution_count": 11, 
            "cell_type": "code", 
            "metadata": {}, 
            "outputs": [], 
            "source": "# filtering out for Addresses with 'Toronto' in name\ntoronto_housing_data = df_ontario_housing[df_ontario_housing['Address'].str.contains('|'.join(['Toronto']))]"
        }, 
        {
            "execution_count": 12, 
            "cell_type": "code", 
            "metadata": {}, 
            "outputs": [
                {
                    "execution_count": 12, 
                    "metadata": {}, 
                    "data": {
                        "text/html": "<div>\n<style scoped>\n    .dataframe tbody tr th:only-of-type {\n        vertical-align: middle;\n    }\n\n    .dataframe tbody tr th {\n        vertical-align: top;\n    }\n\n    .dataframe thead th {\n        text-align: right;\n    }\n</style>\n<table border=\"1\" class=\"dataframe\">\n  <thead>\n    <tr style=\"text-align: right;\">\n      <th></th>\n      <th>AreaName</th>\n      <th>Avg Price</th>\n      <th>Latitude</th>\n      <th>Longitude</th>\n    </tr>\n  </thead>\n  <tbody>\n    <tr>\n      <th>0</th>\n      <td>Agincourt</td>\n      <td>425287.29</td>\n      <td>43.79</td>\n      <td>-79.28</td>\n    </tr>\n    <tr>\n      <th>1</th>\n      <td>Agincourt North</td>\n      <td>2200000.00</td>\n      <td>43.80</td>\n      <td>-79.24</td>\n    </tr>\n    <tr>\n      <th>2</th>\n      <td>Alderwood</td>\n      <td>993179.93</td>\n      <td>43.60</td>\n      <td>-79.55</td>\n    </tr>\n    <tr>\n      <th>3</th>\n      <td>Amesbury</td>\n      <td>79450.00</td>\n      <td>43.70</td>\n      <td>-79.48</td>\n    </tr>\n    <tr>\n      <th>4</th>\n      <td>Armdale</td>\n      <td>66739.09</td>\n      <td>43.83</td>\n      <td>-79.25</td>\n    </tr>\n  </tbody>\n</table>\n</div>", 
                        "text/plain": "          AreaName  Avg Price  Latitude  Longitude\n0        Agincourt  425287.29     43.79     -79.28\n1  Agincourt North 2200000.00     43.80     -79.24\n2        Alderwood  993179.93     43.60     -79.55\n3         Amesbury   79450.00     43.70     -79.48\n4          Armdale   66739.09     43.83     -79.25"
                    }, 
                    "output_type": "execute_result"
                }
            ], 
            "source": "toronto_average_prices = toronto_housing_data.groupby('AreaName', as_index=False)['Price', 'Latitude', 'Longitude'].mean()\ntoronto_average_prices.columns = ['AreaName','Avg Price', 'Latitude', 'Longitude']\ntoronto_average_prices.head()"
        }, 
        {
            "source": "<h2>Find Number of Chinese Venues per Area</h2>", 
            "cell_type": "markdown", 
            "metadata": {}
        }, 
        {
            "execution_count": 13, 
            "cell_type": "code", 
            "metadata": {}, 
            "outputs": [], 
            "source": "CLIENT_ID = 'YSK4NSSJEHR20EHPGGR22MO52KXJMOSS3PQSPB1ASHISUTRA' \nCLIENT_SECRET = 'YKSPEBXNZUPLG0WEIVQPNTCJLJBWKR4HNSAHM5BR22VTO1ND' \nVERSION = '20180605' \nLIMIT = 10 # limit of number of venues returned by Foursquare API"
        }, 
        {
            "execution_count": 14, 
            "cell_type": "code", 
            "metadata": {}, 
            "outputs": [], 
            "source": "def getNearbyVenues(names, latitudes, longitudes, price, radius=1500):\n    \n    venues_list=[]\n    for name, lat, lng, prc in zip(names, latitudes, longitudes, price):\n            \n        # =API request URL\n        url = 'https://api.foursquare.com/v2/venues/explore?&client_id={}&client_secret={}&v={}&ll={},{}&radius={}&limit={}'.format(\n            CLIENT_ID, \n            CLIENT_SECRET, \n            VERSION, \n            lat, \n            lng, \n            radius, \n            LIMIT)\n        \n        results = requests.get(url).json()[\"response\"]['groups'][0]['items']\n        \n        venues_list.append([(\n            name, \n            lat, \n            lng, \n            prc,\n            v['venue']['name'], \n            v['venue']['location']['lat'], \n            v['venue']['location']['lng'],\n            v['venue']['location']['distance'],\n            v['venue']['categories'][0]['name']) for v in results])\n\n    nearby_venues = pd.DataFrame([item for venue_list in venues_list for item in venue_list])\n    nearby_venues.columns = ['AreaName', \n                  'Area Latitude', \n                  'Area Longitude', \n                  'Avg Price',\n                  'Venue', \n                  'Venue Latitude', \n                  'Venue Longitude',\n                  'Distance (m)', \n                  'Venue Category']\n    \n    return(nearby_venues)"
        }, 
        {
            "execution_count": 15, 
            "cell_type": "code", 
            "metadata": {}, 
            "outputs": [], 
            "source": "# function that extracts the category of the venue\ndef get_category_type(row):\n    try:\n        categories_list = row['categories']\n    except:\n        categories_list = row['venue.categories']\n        \n    if len(categories_list) == 0:\n        return None\n    else:\n        return categories_list[0]['name']"
        }, 
        {
            "execution_count": 16, 
            "cell_type": "code", 
            "metadata": {
                "scrolled": false
            }, 
            "outputs": [], 
            "source": "toronto_venues = getNearbyVenues(names=toronto_average_prices['AreaName'],\n                                   latitudes=toronto_average_prices['Latitude'],\n                                   longitudes=toronto_average_prices['Longitude'],\n                                   price=toronto_average_prices['Avg Price']\n                                  )"
        }, 
        {
            "execution_count": 17, 
            "cell_type": "code", 
            "metadata": {}, 
            "outputs": [
                {
                    "execution_count": 17, 
                    "metadata": {}, 
                    "data": {
                        "text/html": "<div>\n<style scoped>\n    .dataframe tbody tr th:only-of-type {\n        vertical-align: middle;\n    }\n\n    .dataframe tbody tr th {\n        vertical-align: top;\n    }\n\n    .dataframe thead th {\n        text-align: right;\n    }\n</style>\n<table border=\"1\" class=\"dataframe\">\n  <thead>\n    <tr style=\"text-align: right;\">\n      <th></th>\n      <th>AreaName</th>\n      <th>Area Latitude</th>\n      <th>Area Longitude</th>\n      <th>Avg Price</th>\n      <th>Venue</th>\n      <th>Venue Latitude</th>\n      <th>Venue Longitude</th>\n      <th>Distance (m)</th>\n      <th>Venue Category</th>\n    </tr>\n  </thead>\n  <tbody>\n    <tr>\n      <th>0</th>\n      <td>Agincourt</td>\n      <td>43.79</td>\n      <td>-79.28</td>\n      <td>425287.29</td>\n      <td>One2 Snacks</td>\n      <td>43.79</td>\n      <td>-79.28</td>\n      <td>177</td>\n      <td>Asian Restaurant</td>\n    </tr>\n    <tr>\n      <th>1</th>\n      <td>Agincourt</td>\n      <td>43.79</td>\n      <td>-79.28</td>\n      <td>425287.29</td>\n      <td>Maple Yip Seafood \u9678\u7fbd\u6d77\u9bae\u9152\u5bb6</td>\n      <td>43.78</td>\n      <td>-79.28</td>\n      <td>376</td>\n      <td>Chinese Restaurant</td>\n    </tr>\n    <tr>\n      <th>2</th>\n      <td>Agincourt</td>\n      <td>43.79</td>\n      <td>-79.28</td>\n      <td>425287.29</td>\n      <td>Tim Hortons</td>\n      <td>43.79</td>\n      <td>-79.28</td>\n      <td>285</td>\n      <td>Coffee Shop</td>\n    </tr>\n    <tr>\n      <th>3</th>\n      <td>Agincourt</td>\n      <td>43.79</td>\n      <td>-79.28</td>\n      <td>425287.29</td>\n      <td>In Cheon House Korean &amp; Japanese Restaurant \uc778\ucc9c\uad00</td>\n      <td>43.79</td>\n      <td>-79.28</td>\n      <td>278</td>\n      <td>Korean Restaurant</td>\n    </tr>\n    <tr>\n      <th>4</th>\n      <td>Agincourt</td>\n      <td>43.79</td>\n      <td>-79.28</td>\n      <td>425287.29</td>\n      <td>Yummy Cantonese Restaurant \u8001\u897f\u95a2\u8178\u7c89</td>\n      <td>43.79</td>\n      <td>-79.27</td>\n      <td>703</td>\n      <td>Cantonese Restaurant</td>\n    </tr>\n  </tbody>\n</table>\n</div>", 
                        "text/plain": "    AreaName  Area Latitude  Area Longitude  Avg Price  \\\n0  Agincourt          43.79          -79.28  425287.29   \n1  Agincourt          43.79          -79.28  425287.29   \n2  Agincourt          43.79          -79.28  425287.29   \n3  Agincourt          43.79          -79.28  425287.29   \n4  Agincourt          43.79          -79.28  425287.29   \n\n                                             Venue  Venue Latitude  \\\n0                                      One2 Snacks           43.79   \n1                         Maple Yip Seafood \u9678\u7fbd\u6d77\u9bae\u9152\u5bb6           43.78   \n2                                      Tim Hortons           43.79   \n3  In Cheon House Korean & Japanese Restaurant \uc778\ucc9c\uad00           43.79   \n4                 Yummy Cantonese Restaurant \u8001\u897f\u95a2\u8178\u7c89           43.79   \n\n   Venue Longitude  Distance (m)        Venue Category  \n0           -79.28           177      Asian Restaurant  \n1           -79.28           376    Chinese Restaurant  \n2           -79.28           285           Coffee Shop  \n3           -79.28           278     Korean Restaurant  \n4           -79.27           703  Cantonese Restaurant  "
                    }, 
                    "output_type": "execute_result"
                }
            ], 
            "source": "toronto_venues.head()"
        }, 
        {
            "execution_count": 18, 
            "cell_type": "code", 
            "metadata": {}, 
            "outputs": [], 
            "source": "# boolean variable; true if keyword that indicates Chinese background is found \nchineseVenue = toronto_venues['Venue Category'].str.contains(\"China\") | toronto_venues['Venue Category'].str.contains(\"Chinese\") | toronto_venues['Venue'].str.contains(\"Cantonese\") | toronto_venues['Venue Category'].str.contains(\"Cantonese\") | toronto_venues['Venue'].str.contains(\"Mandarin\") | toronto_venues['Venue Category'].str.contains(\"Mandarin\")  \n# filtering for Chinese venues\ntoronto_venues = toronto_venues[chineseVenue]"
        }, 
        {
            "execution_count": 19, 
            "cell_type": "code", 
            "metadata": {}, 
            "outputs": [
                {
                    "execution_count": 19, 
                    "metadata": {}, 
                    "data": {
                        "text/html": "<div>\n<style scoped>\n    .dataframe tbody tr th:only-of-type {\n        vertical-align: middle;\n    }\n\n    .dataframe tbody tr th {\n        vertical-align: top;\n    }\n\n    .dataframe thead th {\n        text-align: right;\n    }\n</style>\n<table border=\"1\" class=\"dataframe\">\n  <thead>\n    <tr style=\"text-align: right;\">\n      <th></th>\n      <th>AreaName</th>\n      <th>Area Latitude</th>\n      <th>Area Longitude</th>\n      <th>Avg Price</th>\n      <th># of Chinese Venues</th>\n    </tr>\n  </thead>\n  <tbody>\n    <tr>\n      <th>0</th>\n      <td>Agincourt</td>\n      <td>43.79</td>\n      <td>-79.28</td>\n      <td>425287.29</td>\n      <td>4</td>\n    </tr>\n    <tr>\n      <th>1</th>\n      <td>Agincourt North</td>\n      <td>43.80</td>\n      <td>-79.24</td>\n      <td>2200000.00</td>\n      <td>1</td>\n    </tr>\n    <tr>\n      <th>2</th>\n      <td>Amesbury</td>\n      <td>43.70</td>\n      <td>-79.48</td>\n      <td>79450.00</td>\n      <td>1</td>\n    </tr>\n    <tr>\n      <th>3</th>\n      <td>Bayview Woods - Steeles</td>\n      <td>43.79</td>\n      <td>-79.39</td>\n      <td>1032187.40</td>\n      <td>1</td>\n    </tr>\n    <tr>\n      <th>4</th>\n      <td>Beechborough - Greenbrook</td>\n      <td>43.70</td>\n      <td>-79.48</td>\n      <td>699000.00</td>\n      <td>1</td>\n    </tr>\n    <tr>\n      <th>5</th>\n      <td>Ben Jungle</td>\n      <td>43.76</td>\n      <td>-79.24</td>\n      <td>795000.00</td>\n      <td>1</td>\n    </tr>\n    <tr>\n      <th>6</th>\n      <td>Bendale</td>\n      <td>43.77</td>\n      <td>-79.26</td>\n      <td>482289.71</td>\n      <td>1</td>\n    </tr>\n    <tr>\n      <th>7</th>\n      <td>Bridlewood</td>\n      <td>43.80</td>\n      <td>-79.32</td>\n      <td>344406.89</td>\n      <td>3</td>\n    </tr>\n    <tr>\n      <th>8</th>\n      <td>Brookhaven - Amesbury</td>\n      <td>43.70</td>\n      <td>-79.49</td>\n      <td>806418.18</td>\n      <td>1</td>\n    </tr>\n    <tr>\n      <th>9</th>\n      <td>Don Mills</td>\n      <td>43.74</td>\n      <td>-79.35</td>\n      <td>715269.12</td>\n      <td>1</td>\n    </tr>\n    <tr>\n      <th>10</th>\n      <td>Don Valley Village</td>\n      <td>43.79</td>\n      <td>-79.35</td>\n      <td>614318.31</td>\n      <td>3</td>\n    </tr>\n    <tr>\n      <th>11</th>\n      <td>Dorset Park</td>\n      <td>43.76</td>\n      <td>-79.28</td>\n      <td>369159.67</td>\n      <td>1</td>\n    </tr>\n    <tr>\n      <th>12</th>\n      <td>Hillcrest Village</td>\n      <td>43.80</td>\n      <td>-79.36</td>\n      <td>780921.73</td>\n      <td>1</td>\n    </tr>\n    <tr>\n      <th>13</th>\n      <td>Humber Heights - Westmount</td>\n      <td>43.69</td>\n      <td>-79.52</td>\n      <td>586927.17</td>\n      <td>1</td>\n    </tr>\n    <tr>\n      <th>14</th>\n      <td>Ionview</td>\n      <td>43.74</td>\n      <td>-79.27</td>\n      <td>557776.56</td>\n      <td>2</td>\n    </tr>\n    <tr>\n      <th>15</th>\n      <td>Kennedy Park</td>\n      <td>43.73</td>\n      <td>-79.26</td>\n      <td>574876.19</td>\n      <td>1</td>\n    </tr>\n    <tr>\n      <th>16</th>\n      <td>Kingsview Village</td>\n      <td>43.70</td>\n      <td>-79.55</td>\n      <td>390883.58</td>\n      <td>1</td>\n    </tr>\n    <tr>\n      <th>17</th>\n      <td>L'Amoreaux</td>\n      <td>43.80</td>\n      <td>-79.31</td>\n      <td>793194.83</td>\n      <td>4</td>\n    </tr>\n    <tr>\n      <th>18</th>\n      <td>Malvern</td>\n      <td>43.80</td>\n      <td>-79.23</td>\n      <td>406304.99</td>\n      <td>1</td>\n    </tr>\n    <tr>\n      <th>19</th>\n      <td>Maple Leaf</td>\n      <td>43.72</td>\n      <td>-79.48</td>\n      <td>976288.89</td>\n      <td>1</td>\n    </tr>\n    <tr>\n      <th>20</th>\n      <td>Milliken</td>\n      <td>43.81</td>\n      <td>-79.29</td>\n      <td>530457.37</td>\n      <td>1</td>\n    </tr>\n    <tr>\n      <th>21</th>\n      <td>Port Royal</td>\n      <td>43.81</td>\n      <td>-79.29</td>\n      <td>419666.67</td>\n      <td>1</td>\n    </tr>\n    <tr>\n      <th>22</th>\n      <td>Richview</td>\n      <td>43.68</td>\n      <td>-79.56</td>\n      <td>727238.40</td>\n      <td>1</td>\n    </tr>\n    <tr>\n      <th>23</th>\n      <td>Silverstone</td>\n      <td>43.74</td>\n      <td>-79.60</td>\n      <td>508216.50</td>\n      <td>1</td>\n    </tr>\n    <tr>\n      <th>24</th>\n      <td>South Cedarbrae</td>\n      <td>43.75</td>\n      <td>-79.23</td>\n      <td>624000.00</td>\n      <td>1</td>\n    </tr>\n    <tr>\n      <th>25</th>\n      <td>Steeles</td>\n      <td>43.81</td>\n      <td>-79.32</td>\n      <td>481273.50</td>\n      <td>3</td>\n    </tr>\n    <tr>\n      <th>26</th>\n      <td>Tam O'Shanter</td>\n      <td>43.78</td>\n      <td>-79.30</td>\n      <td>453432.50</td>\n      <td>4</td>\n    </tr>\n    <tr>\n      <th>27</th>\n      <td>Tam O'Shanter - Sullivan</td>\n      <td>43.78</td>\n      <td>-79.31</td>\n      <td>469507.50</td>\n      <td>1</td>\n    </tr>\n    <tr>\n      <th>28</th>\n      <td>The Westway</td>\n      <td>43.69</td>\n      <td>-79.55</td>\n      <td>389596.00</td>\n      <td>2</td>\n    </tr>\n    <tr>\n      <th>29</th>\n      <td>West Humber Estates</td>\n      <td>43.73</td>\n      <td>-79.59</td>\n      <td>649999.00</td>\n      <td>1</td>\n    </tr>\n    <tr>\n      <th>30</th>\n      <td>Woburn</td>\n      <td>43.77</td>\n      <td>-79.24</td>\n      <td>469192.72</td>\n      <td>1</td>\n    </tr>\n  </tbody>\n</table>\n</div>", 
                        "text/plain": "                      AreaName  Area Latitude  Area Longitude  Avg Price  \\\n0                    Agincourt          43.79          -79.28  425287.29   \n1              Agincourt North          43.80          -79.24 2200000.00   \n2                     Amesbury          43.70          -79.48   79450.00   \n3      Bayview Woods - Steeles          43.79          -79.39 1032187.40   \n4    Beechborough - Greenbrook          43.70          -79.48  699000.00   \n5                   Ben Jungle          43.76          -79.24  795000.00   \n6                      Bendale          43.77          -79.26  482289.71   \n7                   Bridlewood          43.80          -79.32  344406.89   \n8        Brookhaven - Amesbury          43.70          -79.49  806418.18   \n9                    Don Mills          43.74          -79.35  715269.12   \n10          Don Valley Village          43.79          -79.35  614318.31   \n11                 Dorset Park          43.76          -79.28  369159.67   \n12           Hillcrest Village          43.80          -79.36  780921.73   \n13  Humber Heights - Westmount          43.69          -79.52  586927.17   \n14                     Ionview          43.74          -79.27  557776.56   \n15                Kennedy Park          43.73          -79.26  574876.19   \n16           Kingsview Village          43.70          -79.55  390883.58   \n17                  L'Amoreaux          43.80          -79.31  793194.83   \n18                     Malvern          43.80          -79.23  406304.99   \n19                  Maple Leaf          43.72          -79.48  976288.89   \n20                    Milliken          43.81          -79.29  530457.37   \n21                  Port Royal          43.81          -79.29  419666.67   \n22                    Richview          43.68          -79.56  727238.40   \n23                 Silverstone          43.74          -79.60  508216.50   \n24             South Cedarbrae          43.75          -79.23  624000.00   \n25                     Steeles          43.81          -79.32  481273.50   \n26               Tam O'Shanter          43.78          -79.30  453432.50   \n27    Tam O'Shanter - Sullivan          43.78          -79.31  469507.50   \n28                 The Westway          43.69          -79.55  389596.00   \n29         West Humber Estates          43.73          -79.59  649999.00   \n30                      Woburn          43.77          -79.24  469192.72   \n\n    # of Chinese Venues  \n0                     4  \n1                     1  \n2                     1  \n3                     1  \n4                     1  \n5                     1  \n6                     1  \n7                     3  \n8                     1  \n9                     1  \n10                    3  \n11                    1  \n12                    1  \n13                    1  \n14                    2  \n15                    1  \n16                    1  \n17                    4  \n18                    1  \n19                    1  \n20                    1  \n21                    1  \n22                    1  \n23                    1  \n24                    1  \n25                    3  \n26                    4  \n27                    1  \n28                    2  \n29                    1  \n30                    1  "
                    }, 
                    "output_type": "execute_result"
                }
            ], 
            "source": "toronto_venues = toronto_venues.groupby(['AreaName', 'Area Latitude', 'Area Longitude', 'Avg Price'],as_index=False)['Venue'].count()\ntoronto_venues.columns = ['AreaName', 'Area Latitude', 'Area Longitude', 'Avg Price', '# of Chinese Venues']\ntoronto_venues"
        }, 
        {
            "source": "<h2>Compute Distances to Work</h2>", 
            "cell_type": "markdown", 
            "metadata": {}
        }, 
        {
            "execution_count": 20, 
            "cell_type": "code", 
            "metadata": {}, 
            "outputs": [], 
            "source": "# using the Haversine formula\n\ndef latLonDistance (area_lat, area_lon):\n    \n    distance_list = []\n    earth_radius = 6731       #in km \n    \n    for lat, lon in zip(area_lat, area_lon):\n        \n        # conversion to radians\n        TD_lat_RAD = radians(43.6476)\n        TD_lon_RAD = radians(-79.3814)\n        Area_lat_RAD = radians(lat)\n        Area_lon_RAD = radians(lon)\n\n        dlon = Area_lon_RAD - TD_lon_RAD\n        dlat = Area_lat_RAD - TD_lat_RAD\n\n        a = sin(dlat / 2)**2 + cos(TD_lat_RAD) * cos(Area_lat_RAD) * sin(dlon / 2)**2\n        c = 2 * atan2(sqrt(a), sqrt(1 - a))\n\n        distance = earth_radius * c\n        \n        distance_list.append(distance)\n        \n    return distance_list"
        }, 
        {
            "execution_count": 21, 
            "cell_type": "code", 
            "metadata": {}, 
            "outputs": [
                {
                    "execution_count": 21, 
                    "metadata": {}, 
                    "data": {
                        "text/html": "<div>\n<style scoped>\n    .dataframe tbody tr th:only-of-type {\n        vertical-align: middle;\n    }\n\n    .dataframe tbody tr th {\n        vertical-align: top;\n    }\n\n    .dataframe thead th {\n        text-align: right;\n    }\n</style>\n<table border=\"1\" class=\"dataframe\">\n  <thead>\n    <tr style=\"text-align: right;\">\n      <th></th>\n      <th>AreaName</th>\n      <th>Area Latitude</th>\n      <th>Area Longitude</th>\n      <th>Avg Price</th>\n      <th># of Chinese Venues</th>\n      <th>Distance to Work (km)</th>\n    </tr>\n  </thead>\n  <tbody>\n    <tr>\n      <th>0</th>\n      <td>Agincourt</td>\n      <td>43.79</td>\n      <td>-79.28</td>\n      <td>425287.29</td>\n      <td>4</td>\n      <td>18.68</td>\n    </tr>\n    <tr>\n      <th>1</th>\n      <td>Agincourt North</td>\n      <td>43.80</td>\n      <td>-79.24</td>\n      <td>2200000.00</td>\n      <td>1</td>\n      <td>21.75</td>\n    </tr>\n    <tr>\n      <th>2</th>\n      <td>Amesbury</td>\n      <td>43.70</td>\n      <td>-79.48</td>\n      <td>79450.00</td>\n      <td>1</td>\n      <td>10.90</td>\n    </tr>\n    <tr>\n      <th>3</th>\n      <td>Bayview Woods - Steeles</td>\n      <td>43.79</td>\n      <td>-79.39</td>\n      <td>1032187.40</td>\n      <td>1</td>\n      <td>17.19</td>\n    </tr>\n    <tr>\n      <th>4</th>\n      <td>Beechborough - Greenbrook</td>\n      <td>43.70</td>\n      <td>-79.48</td>\n      <td>699000.00</td>\n      <td>1</td>\n      <td>9.97</td>\n    </tr>\n    <tr>\n      <th>5</th>\n      <td>Ben Jungle</td>\n      <td>43.76</td>\n      <td>-79.24</td>\n      <td>795000.00</td>\n      <td>1</td>\n      <td>18.10</td>\n    </tr>\n    <tr>\n      <th>6</th>\n      <td>Bendale</td>\n      <td>43.77</td>\n      <td>-79.26</td>\n      <td>482289.71</td>\n      <td>1</td>\n      <td>17.48</td>\n    </tr>\n    <tr>\n      <th>7</th>\n      <td>Bridlewood</td>\n      <td>43.80</td>\n      <td>-79.32</td>\n      <td>344406.89</td>\n      <td>3</td>\n      <td>18.37</td>\n    </tr>\n    <tr>\n      <th>8</th>\n      <td>Brookhaven - Amesbury</td>\n      <td>43.70</td>\n      <td>-79.49</td>\n      <td>806418.18</td>\n      <td>1</td>\n      <td>11.12</td>\n    </tr>\n    <tr>\n      <th>9</th>\n      <td>Don Mills</td>\n      <td>43.74</td>\n      <td>-79.35</td>\n      <td>715269.12</td>\n      <td>1</td>\n      <td>11.40</td>\n    </tr>\n    <tr>\n      <th>10</th>\n      <td>Don Valley Village</td>\n      <td>43.79</td>\n      <td>-79.35</td>\n      <td>614318.31</td>\n      <td>3</td>\n      <td>16.43</td>\n    </tr>\n    <tr>\n      <th>11</th>\n      <td>Dorset Park</td>\n      <td>43.76</td>\n      <td>-79.28</td>\n      <td>369159.67</td>\n      <td>1</td>\n      <td>15.62</td>\n    </tr>\n    <tr>\n      <th>12</th>\n      <td>Hillcrest Village</td>\n      <td>43.80</td>\n      <td>-79.36</td>\n      <td>780921.73</td>\n      <td>1</td>\n      <td>18.42</td>\n    </tr>\n    <tr>\n      <th>13</th>\n      <td>Humber Heights - Westmount</td>\n      <td>43.69</td>\n      <td>-79.52</td>\n      <td>586927.17</td>\n      <td>1</td>\n      <td>12.89</td>\n    </tr>\n    <tr>\n      <th>14</th>\n      <td>Ionview</td>\n      <td>43.74</td>\n      <td>-79.27</td>\n      <td>557776.56</td>\n      <td>2</td>\n      <td>13.85</td>\n    </tr>\n    <tr>\n      <th>15</th>\n      <td>Kennedy Park</td>\n      <td>43.73</td>\n      <td>-79.26</td>\n      <td>574876.19</td>\n      <td>1</td>\n      <td>13.90</td>\n    </tr>\n    <tr>\n      <th>16</th>\n      <td>Kingsview Village</td>\n      <td>43.70</td>\n      <td>-79.55</td>\n      <td>390883.58</td>\n      <td>1</td>\n      <td>15.66</td>\n    </tr>\n    <tr>\n      <th>17</th>\n      <td>L'Amoreaux</td>\n      <td>43.80</td>\n      <td>-79.31</td>\n      <td>793194.83</td>\n      <td>4</td>\n      <td>19.03</td>\n    </tr>\n    <tr>\n      <th>18</th>\n      <td>Malvern</td>\n      <td>43.80</td>\n      <td>-79.23</td>\n      <td>406304.99</td>\n      <td>1</td>\n      <td>22.58</td>\n    </tr>\n    <tr>\n      <th>19</th>\n      <td>Maple Leaf</td>\n      <td>43.72</td>\n      <td>-79.48</td>\n      <td>976288.89</td>\n      <td>1</td>\n      <td>11.91</td>\n    </tr>\n    <tr>\n      <th>20</th>\n      <td>Milliken</td>\n      <td>43.81</td>\n      <td>-79.29</td>\n      <td>530457.37</td>\n      <td>1</td>\n      <td>20.77</td>\n    </tr>\n    <tr>\n      <th>21</th>\n      <td>Port Royal</td>\n      <td>43.81</td>\n      <td>-79.29</td>\n      <td>419666.67</td>\n      <td>1</td>\n      <td>21.11</td>\n    </tr>\n    <tr>\n      <th>22</th>\n      <td>Richview</td>\n      <td>43.68</td>\n      <td>-79.56</td>\n      <td>727238.40</td>\n      <td>1</td>\n      <td>15.70</td>\n    </tr>\n    <tr>\n      <th>23</th>\n      <td>Silverstone</td>\n      <td>43.74</td>\n      <td>-79.60</td>\n      <td>508216.50</td>\n      <td>1</td>\n      <td>21.64</td>\n    </tr>\n    <tr>\n      <th>24</th>\n      <td>South Cedarbrae</td>\n      <td>43.75</td>\n      <td>-79.23</td>\n      <td>624000.00</td>\n      <td>1</td>\n      <td>17.46</td>\n    </tr>\n    <tr>\n      <th>25</th>\n      <td>Steeles</td>\n      <td>43.81</td>\n      <td>-79.32</td>\n      <td>481273.50</td>\n      <td>3</td>\n      <td>20.19</td>\n    </tr>\n    <tr>\n      <th>26</th>\n      <td>Tam O'Shanter</td>\n      <td>43.78</td>\n      <td>-79.30</td>\n      <td>453432.50</td>\n      <td>4</td>\n      <td>17.61</td>\n    </tr>\n    <tr>\n      <th>27</th>\n      <td>Tam O'Shanter - Sullivan</td>\n      <td>43.78</td>\n      <td>-79.31</td>\n      <td>469507.50</td>\n      <td>1</td>\n      <td>16.14</td>\n    </tr>\n    <tr>\n      <th>28</th>\n      <td>The Westway</td>\n      <td>43.69</td>\n      <td>-79.55</td>\n      <td>389596.00</td>\n      <td>2</td>\n      <td>15.01</td>\n    </tr>\n    <tr>\n      <th>29</th>\n      <td>West Humber Estates</td>\n      <td>43.73</td>\n      <td>-79.59</td>\n      <td>649999.00</td>\n      <td>1</td>\n      <td>19.67</td>\n    </tr>\n    <tr>\n      <th>30</th>\n      <td>Woburn</td>\n      <td>43.77</td>\n      <td>-79.24</td>\n      <td>469192.72</td>\n      <td>1</td>\n      <td>19.15</td>\n    </tr>\n  </tbody>\n</table>\n</div>", 
                        "text/plain": "                      AreaName  Area Latitude  Area Longitude  Avg Price  \\\n0                    Agincourt          43.79          -79.28  425287.29   \n1              Agincourt North          43.80          -79.24 2200000.00   \n2                     Amesbury          43.70          -79.48   79450.00   \n3      Bayview Woods - Steeles          43.79          -79.39 1032187.40   \n4    Beechborough - Greenbrook          43.70          -79.48  699000.00   \n5                   Ben Jungle          43.76          -79.24  795000.00   \n6                      Bendale          43.77          -79.26  482289.71   \n7                   Bridlewood          43.80          -79.32  344406.89   \n8        Brookhaven - Amesbury          43.70          -79.49  806418.18   \n9                    Don Mills          43.74          -79.35  715269.12   \n10          Don Valley Village          43.79          -79.35  614318.31   \n11                 Dorset Park          43.76          -79.28  369159.67   \n12           Hillcrest Village          43.80          -79.36  780921.73   \n13  Humber Heights - Westmount          43.69          -79.52  586927.17   \n14                     Ionview          43.74          -79.27  557776.56   \n15                Kennedy Park          43.73          -79.26  574876.19   \n16           Kingsview Village          43.70          -79.55  390883.58   \n17                  L'Amoreaux          43.80          -79.31  793194.83   \n18                     Malvern          43.80          -79.23  406304.99   \n19                  Maple Leaf          43.72          -79.48  976288.89   \n20                    Milliken          43.81          -79.29  530457.37   \n21                  Port Royal          43.81          -79.29  419666.67   \n22                    Richview          43.68          -79.56  727238.40   \n23                 Silverstone          43.74          -79.60  508216.50   \n24             South Cedarbrae          43.75          -79.23  624000.00   \n25                     Steeles          43.81          -79.32  481273.50   \n26               Tam O'Shanter          43.78          -79.30  453432.50   \n27    Tam O'Shanter - Sullivan          43.78          -79.31  469507.50   \n28                 The Westway          43.69          -79.55  389596.00   \n29         West Humber Estates          43.73          -79.59  649999.00   \n30                      Woburn          43.77          -79.24  469192.72   \n\n    # of Chinese Venues Distance to Work (km)  \n0                     4                 18.68  \n1                     1                 21.75  \n2                     1                 10.90  \n3                     1                 17.19  \n4                     1                  9.97  \n5                     1                 18.10  \n6                     1                 17.48  \n7                     3                 18.37  \n8                     1                 11.12  \n9                     1                 11.40  \n10                    3                 16.43  \n11                    1                 15.62  \n12                    1                 18.42  \n13                    1                 12.89  \n14                    2                 13.85  \n15                    1                 13.90  \n16                    1                 15.66  \n17                    4                 19.03  \n18                    1                 22.58  \n19                    1                 11.91  \n20                    1                 20.77  \n21                    1                 21.11  \n22                    1                 15.70  \n23                    1                 21.64  \n24                    1                 17.46  \n25                    3                 20.19  \n26                    4                 17.61  \n27                    1                 16.14  \n28                    2                 15.01  \n29                    1                 19.67  \n30                    1                 19.15  "
                    }, 
                    "output_type": "execute_result"
                }
            ], 
            "source": "distance_to_work = latLonDistance(area_lat=toronto_venues['Area Latitude'] ,area_lon=toronto_venues['Area Longitude'])\ndistance_to_work_format = ['%.2f' % elem for elem in distance_to_work]\ndistance_series = pd.Series(distance_to_work_format)\ntoronto_venues['Distance to Work (km)'] = distance_series.values\ntoronto_venues"
        }, 
        {
            "source": "<h2>Compute Euclidean Distances</h2>", 
            "cell_type": "markdown", 
            "metadata": {}
        }, 
        {
            "execution_count": 22, 
            "cell_type": "code", 
            "metadata": {}, 
            "outputs": [], 
            "source": "def eudDistance(price, dist_work):\n    eudDistanceList = []\n    \n    for p, d in zip(price, dist_work):\n        \n        # normalizing the prices\n        \n        normalied_p = p/1000\n        euDist = sqrt((normalied_p*normalied_p)+(d*d))\n        eudDistanceList.append(euDist)\n    \n    return eudDistanceList"
        }, 
        {
            "execution_count": 23, 
            "cell_type": "code", 
            "metadata": {}, 
            "outputs": [], 
            "source": "toronto_venues['Avg Price'] = toronto_venues['Avg Price'].astype(float)\ntoronto_venues['# of Chinese Venues'] = toronto_venues['# of Chinese Venues'].astype(float)\ntoronto_venues['Distance to Work (km)'] = toronto_venues['Distance to Work (km)'].astype(float)\n\neuclidean_distance_list = eudDistance(price=toronto_venues['Avg Price'],\n                                     dist_work=toronto_venues['Distance to Work (km)'])"
        }, 
        {
            "execution_count": 24, 
            "cell_type": "code", 
            "metadata": {}, 
            "outputs": [], 
            "source": "euclidean_distance_list\neuclidean_distance_list_format = ['%.2f' % elem for elem in euclidean_distance_list]\neuclidean_series = pd.Series(euclidean_distance_list_format)"
        }, 
        {
            "execution_count": 25, 
            "cell_type": "code", 
            "metadata": {}, 
            "outputs": [
                {
                    "execution_count": 25, 
                    "metadata": {}, 
                    "data": {
                        "text/html": "<div>\n<style scoped>\n    .dataframe tbody tr th:only-of-type {\n        vertical-align: middle;\n    }\n\n    .dataframe tbody tr th {\n        vertical-align: top;\n    }\n\n    .dataframe thead th {\n        text-align: right;\n    }\n</style>\n<table border=\"1\" class=\"dataframe\">\n  <thead>\n    <tr style=\"text-align: right;\">\n      <th></th>\n      <th>AreaName</th>\n      <th>Area Latitude</th>\n      <th>Area Longitude</th>\n      <th>Avg Price</th>\n      <th># of Chinese Venues</th>\n      <th>Distance to Work (km)</th>\n      <th>Euclidean Distance</th>\n    </tr>\n  </thead>\n  <tbody>\n    <tr>\n      <th>0</th>\n      <td>Amesbury</td>\n      <td>43.70</td>\n      <td>-79.48</td>\n      <td>79450.00</td>\n      <td>1.00</td>\n      <td>10.90</td>\n      <td>80.19</td>\n    </tr>\n    <tr>\n      <th>1</th>\n      <td>Bridlewood</td>\n      <td>43.80</td>\n      <td>-79.32</td>\n      <td>344406.89</td>\n      <td>3.00</td>\n      <td>18.37</td>\n      <td>344.90</td>\n    </tr>\n    <tr>\n      <th>2</th>\n      <td>Dorset Park</td>\n      <td>43.76</td>\n      <td>-79.28</td>\n      <td>369159.67</td>\n      <td>1.00</td>\n      <td>15.62</td>\n      <td>369.49</td>\n    </tr>\n    <tr>\n      <th>3</th>\n      <td>The Westway</td>\n      <td>43.69</td>\n      <td>-79.55</td>\n      <td>389596.00</td>\n      <td>2.00</td>\n      <td>15.01</td>\n      <td>389.89</td>\n    </tr>\n    <tr>\n      <th>4</th>\n      <td>Kingsview Village</td>\n      <td>43.70</td>\n      <td>-79.55</td>\n      <td>390883.58</td>\n      <td>1.00</td>\n      <td>15.66</td>\n      <td>391.20</td>\n    </tr>\n    <tr>\n      <th>5</th>\n      <td>Malvern</td>\n      <td>43.80</td>\n      <td>-79.23</td>\n      <td>406304.99</td>\n      <td>1.00</td>\n      <td>22.58</td>\n      <td>406.93</td>\n    </tr>\n    <tr>\n      <th>6</th>\n      <td>Port Royal</td>\n      <td>43.81</td>\n      <td>-79.29</td>\n      <td>419666.67</td>\n      <td>1.00</td>\n      <td>21.11</td>\n      <td>420.20</td>\n    </tr>\n    <tr>\n      <th>7</th>\n      <td>Agincourt</td>\n      <td>43.79</td>\n      <td>-79.28</td>\n      <td>425287.29</td>\n      <td>4.00</td>\n      <td>18.68</td>\n      <td>425.70</td>\n    </tr>\n    <tr>\n      <th>8</th>\n      <td>Tam O'Shanter</td>\n      <td>43.78</td>\n      <td>-79.30</td>\n      <td>453432.50</td>\n      <td>4.00</td>\n      <td>17.61</td>\n      <td>453.77</td>\n    </tr>\n    <tr>\n      <th>9</th>\n      <td>Woburn</td>\n      <td>43.77</td>\n      <td>-79.24</td>\n      <td>469192.72</td>\n      <td>1.00</td>\n      <td>19.15</td>\n      <td>469.58</td>\n    </tr>\n    <tr>\n      <th>10</th>\n      <td>Tam O'Shanter - Sullivan</td>\n      <td>43.78</td>\n      <td>-79.31</td>\n      <td>469507.50</td>\n      <td>1.00</td>\n      <td>16.14</td>\n      <td>469.78</td>\n    </tr>\n    <tr>\n      <th>11</th>\n      <td>Steeles</td>\n      <td>43.81</td>\n      <td>-79.32</td>\n      <td>481273.50</td>\n      <td>3.00</td>\n      <td>20.19</td>\n      <td>481.70</td>\n    </tr>\n    <tr>\n      <th>12</th>\n      <td>Bendale</td>\n      <td>43.77</td>\n      <td>-79.26</td>\n      <td>482289.71</td>\n      <td>1.00</td>\n      <td>17.48</td>\n      <td>482.61</td>\n    </tr>\n    <tr>\n      <th>13</th>\n      <td>Silverstone</td>\n      <td>43.74</td>\n      <td>-79.60</td>\n      <td>508216.50</td>\n      <td>1.00</td>\n      <td>21.64</td>\n      <td>508.68</td>\n    </tr>\n    <tr>\n      <th>14</th>\n      <td>Milliken</td>\n      <td>43.81</td>\n      <td>-79.29</td>\n      <td>530457.37</td>\n      <td>1.00</td>\n      <td>20.77</td>\n      <td>530.86</td>\n    </tr>\n    <tr>\n      <th>15</th>\n      <td>Ionview</td>\n      <td>43.74</td>\n      <td>-79.27</td>\n      <td>557776.56</td>\n      <td>2.00</td>\n      <td>13.85</td>\n      <td>557.95</td>\n    </tr>\n    <tr>\n      <th>16</th>\n      <td>Kennedy Park</td>\n      <td>43.73</td>\n      <td>-79.26</td>\n      <td>574876.19</td>\n      <td>1.00</td>\n      <td>13.90</td>\n      <td>575.04</td>\n    </tr>\n    <tr>\n      <th>17</th>\n      <td>Humber Heights - Westmount</td>\n      <td>43.69</td>\n      <td>-79.52</td>\n      <td>586927.17</td>\n      <td>1.00</td>\n      <td>12.89</td>\n      <td>587.07</td>\n    </tr>\n    <tr>\n      <th>18</th>\n      <td>Don Valley Village</td>\n      <td>43.79</td>\n      <td>-79.35</td>\n      <td>614318.31</td>\n      <td>3.00</td>\n      <td>16.43</td>\n      <td>614.54</td>\n    </tr>\n    <tr>\n      <th>19</th>\n      <td>South Cedarbrae</td>\n      <td>43.75</td>\n      <td>-79.23</td>\n      <td>624000.00</td>\n      <td>1.00</td>\n      <td>17.46</td>\n      <td>624.24</td>\n    </tr>\n    <tr>\n      <th>20</th>\n      <td>West Humber Estates</td>\n      <td>43.73</td>\n      <td>-79.59</td>\n      <td>649999.00</td>\n      <td>1.00</td>\n      <td>19.67</td>\n      <td>650.30</td>\n    </tr>\n    <tr>\n      <th>21</th>\n      <td>Beechborough - Greenbrook</td>\n      <td>43.70</td>\n      <td>-79.48</td>\n      <td>699000.00</td>\n      <td>1.00</td>\n      <td>9.97</td>\n      <td>699.07</td>\n    </tr>\n    <tr>\n      <th>22</th>\n      <td>Don Mills</td>\n      <td>43.74</td>\n      <td>-79.35</td>\n      <td>715269.12</td>\n      <td>1.00</td>\n      <td>11.40</td>\n      <td>715.36</td>\n    </tr>\n    <tr>\n      <th>23</th>\n      <td>Richview</td>\n      <td>43.68</td>\n      <td>-79.56</td>\n      <td>727238.40</td>\n      <td>1.00</td>\n      <td>15.70</td>\n      <td>727.41</td>\n    </tr>\n    <tr>\n      <th>24</th>\n      <td>Hillcrest Village</td>\n      <td>43.80</td>\n      <td>-79.36</td>\n      <td>780921.73</td>\n      <td>1.00</td>\n      <td>18.42</td>\n      <td>781.14</td>\n    </tr>\n    <tr>\n      <th>25</th>\n      <td>L'Amoreaux</td>\n      <td>43.80</td>\n      <td>-79.31</td>\n      <td>793194.83</td>\n      <td>4.00</td>\n      <td>19.03</td>\n      <td>793.42</td>\n    </tr>\n    <tr>\n      <th>26</th>\n      <td>Ben Jungle</td>\n      <td>43.76</td>\n      <td>-79.24</td>\n      <td>795000.00</td>\n      <td>1.00</td>\n      <td>18.10</td>\n      <td>795.21</td>\n    </tr>\n    <tr>\n      <th>27</th>\n      <td>Brookhaven - Amesbury</td>\n      <td>43.70</td>\n      <td>-79.49</td>\n      <td>806418.18</td>\n      <td>1.00</td>\n      <td>11.12</td>\n      <td>806.49</td>\n    </tr>\n    <tr>\n      <th>28</th>\n      <td>Maple Leaf</td>\n      <td>43.72</td>\n      <td>-79.48</td>\n      <td>976288.89</td>\n      <td>1.00</td>\n      <td>11.91</td>\n      <td>976.36</td>\n    </tr>\n    <tr>\n      <th>29</th>\n      <td>Bayview Woods - Steeles</td>\n      <td>43.79</td>\n      <td>-79.39</td>\n      <td>1032187.40</td>\n      <td>1.00</td>\n      <td>17.19</td>\n      <td>1032.33</td>\n    </tr>\n    <tr>\n      <th>30</th>\n      <td>Agincourt North</td>\n      <td>43.80</td>\n      <td>-79.24</td>\n      <td>2200000.00</td>\n      <td>1.00</td>\n      <td>21.75</td>\n      <td>2200.11</td>\n    </tr>\n  </tbody>\n</table>\n</div>", 
                        "text/plain": "                      AreaName  Area Latitude  Area Longitude  Avg Price  \\\n0                     Amesbury          43.70          -79.48   79450.00   \n1                   Bridlewood          43.80          -79.32  344406.89   \n2                  Dorset Park          43.76          -79.28  369159.67   \n3                  The Westway          43.69          -79.55  389596.00   \n4            Kingsview Village          43.70          -79.55  390883.58   \n5                      Malvern          43.80          -79.23  406304.99   \n6                   Port Royal          43.81          -79.29  419666.67   \n7                    Agincourt          43.79          -79.28  425287.29   \n8                Tam O'Shanter          43.78          -79.30  453432.50   \n9                       Woburn          43.77          -79.24  469192.72   \n10    Tam O'Shanter - Sullivan          43.78          -79.31  469507.50   \n11                     Steeles          43.81          -79.32  481273.50   \n12                     Bendale          43.77          -79.26  482289.71   \n13                 Silverstone          43.74          -79.60  508216.50   \n14                    Milliken          43.81          -79.29  530457.37   \n15                     Ionview          43.74          -79.27  557776.56   \n16                Kennedy Park          43.73          -79.26  574876.19   \n17  Humber Heights - Westmount          43.69          -79.52  586927.17   \n18          Don Valley Village          43.79          -79.35  614318.31   \n19             South Cedarbrae          43.75          -79.23  624000.00   \n20         West Humber Estates          43.73          -79.59  649999.00   \n21   Beechborough - Greenbrook          43.70          -79.48  699000.00   \n22                   Don Mills          43.74          -79.35  715269.12   \n23                    Richview          43.68          -79.56  727238.40   \n24           Hillcrest Village          43.80          -79.36  780921.73   \n25                  L'Amoreaux          43.80          -79.31  793194.83   \n26                  Ben Jungle          43.76          -79.24  795000.00   \n27       Brookhaven - Amesbury          43.70          -79.49  806418.18   \n28                  Maple Leaf          43.72          -79.48  976288.89   \n29     Bayview Woods - Steeles          43.79          -79.39 1032187.40   \n30             Agincourt North          43.80          -79.24 2200000.00   \n\n    # of Chinese Venues  Distance to Work (km)  Euclidean Distance  \n0                  1.00                  10.90               80.19  \n1                  3.00                  18.37              344.90  \n2                  1.00                  15.62              369.49  \n3                  2.00                  15.01              389.89  \n4                  1.00                  15.66              391.20  \n5                  1.00                  22.58              406.93  \n6                  1.00                  21.11              420.20  \n7                  4.00                  18.68              425.70  \n8                  4.00                  17.61              453.77  \n9                  1.00                  19.15              469.58  \n10                 1.00                  16.14              469.78  \n11                 3.00                  20.19              481.70  \n12                 1.00                  17.48              482.61  \n13                 1.00                  21.64              508.68  \n14                 1.00                  20.77              530.86  \n15                 2.00                  13.85              557.95  \n16                 1.00                  13.90              575.04  \n17                 1.00                  12.89              587.07  \n18                 3.00                  16.43              614.54  \n19                 1.00                  17.46              624.24  \n20                 1.00                  19.67              650.30  \n21                 1.00                   9.97              699.07  \n22                 1.00                  11.40              715.36  \n23                 1.00                  15.70              727.41  \n24                 1.00                  18.42              781.14  \n25                 4.00                  19.03              793.42  \n26                 1.00                  18.10              795.21  \n27                 1.00                  11.12              806.49  \n28                 1.00                  11.91              976.36  \n29                 1.00                  17.19             1032.33  \n30                 1.00                  21.75             2200.11  "
                    }, 
                    "output_type": "execute_result"
                }
            ], 
            "source": "toronto_venues['Euclidean Distance'] = euclidean_series.values\ntoronto_venues['Euclidean Distance'] = toronto_venues['Euclidean Distance'].astype(float)\ntoronto_venues.sort_values('Euclidean Distance', ascending=True, inplace=True)\ntoronto_venues = toronto_venues.reset_index(drop=True)\ntoronto_venues"
        }, 
        {
            "source": "<h2>Scaling Score According to # of Chinese Venues</h2>", 
            "cell_type": "markdown", 
            "metadata": {}
        }, 
        {
            "execution_count": 26, 
            "cell_type": "code", 
            "metadata": {}, 
            "outputs": [], 
            "source": "toronto_venues['Final Score'] = toronto_venues['Euclidean Distance']/toronto_venues['# of Chinese Venues']"
        }, 
        {
            "execution_count": 27, 
            "cell_type": "code", 
            "metadata": {}, 
            "outputs": [], 
            "source": "toronto_venues.sort_values('Final Score', ascending=True, inplace=True)"
        }, 
        {
            "execution_count": 28, 
            "cell_type": "code", 
            "metadata": {}, 
            "outputs": [
                {
                    "execution_count": 28, 
                    "metadata": {}, 
                    "data": {
                        "text/html": "<div>\n<style scoped>\n    .dataframe tbody tr th:only-of-type {\n        vertical-align: middle;\n    }\n\n    .dataframe tbody tr th {\n        vertical-align: top;\n    }\n\n    .dataframe thead th {\n        text-align: right;\n    }\n</style>\n<table border=\"1\" class=\"dataframe\">\n  <thead>\n    <tr style=\"text-align: right;\">\n      <th></th>\n      <th>AreaName</th>\n      <th>Area Latitude</th>\n      <th>Area Longitude</th>\n      <th>Avg Price</th>\n      <th># of Chinese Venues</th>\n      <th>Distance to Work (km)</th>\n      <th>Euclidean Distance</th>\n      <th>Final Score</th>\n    </tr>\n  </thead>\n  <tbody>\n    <tr>\n      <th>0</th>\n      <td>Amesbury</td>\n      <td>43.70</td>\n      <td>-79.48</td>\n      <td>79450.00</td>\n      <td>1.00</td>\n      <td>10.90</td>\n      <td>80.19</td>\n      <td>80.19</td>\n    </tr>\n    <tr>\n      <th>1</th>\n      <td>Agincourt</td>\n      <td>43.79</td>\n      <td>-79.28</td>\n      <td>425287.29</td>\n      <td>4.00</td>\n      <td>18.68</td>\n      <td>425.70</td>\n      <td>106.42</td>\n    </tr>\n    <tr>\n      <th>2</th>\n      <td>Tam O'Shanter</td>\n      <td>43.78</td>\n      <td>-79.30</td>\n      <td>453432.50</td>\n      <td>4.00</td>\n      <td>17.61</td>\n      <td>453.77</td>\n      <td>113.44</td>\n    </tr>\n    <tr>\n      <th>3</th>\n      <td>Bridlewood</td>\n      <td>43.80</td>\n      <td>-79.32</td>\n      <td>344406.89</td>\n      <td>3.00</td>\n      <td>18.37</td>\n      <td>344.90</td>\n      <td>114.97</td>\n    </tr>\n    <tr>\n      <th>4</th>\n      <td>Steeles</td>\n      <td>43.81</td>\n      <td>-79.32</td>\n      <td>481273.50</td>\n      <td>3.00</td>\n      <td>20.19</td>\n      <td>481.70</td>\n      <td>160.57</td>\n    </tr>\n  </tbody>\n</table>\n</div>", 
                        "text/plain": "        AreaName  Area Latitude  Area Longitude  Avg Price  \\\n0       Amesbury          43.70          -79.48   79450.00   \n1      Agincourt          43.79          -79.28  425287.29   \n2  Tam O'Shanter          43.78          -79.30  453432.50   \n3     Bridlewood          43.80          -79.32  344406.89   \n4        Steeles          43.81          -79.32  481273.50   \n\n   # of Chinese Venues  Distance to Work (km)  Euclidean Distance  Final Score  \n0                 1.00                  10.90               80.19        80.19  \n1                 4.00                  18.68              425.70       106.42  \n2                 4.00                  17.61              453.77       113.44  \n3                 3.00                  18.37              344.90       114.97  \n4                 3.00                  20.19              481.70       160.57  "
                    }, 
                    "output_type": "execute_result"
                }
            ], 
            "source": "toronto_venues = toronto_venues.reset_index(drop=True)\ntoronto_venues.head()"
        }
    ], 
    "metadata": {
        "kernelspec": {
            "display_name": "Python 3.5", 
            "name": "python3", 
            "language": "python"
        }, 
        "language_info": {
            "mimetype": "text/x-python", 
            "nbconvert_exporter": "python", 
            "version": "3.5.5", 
            "name": "python", 
            "file_extension": ".py", 
            "pygments_lexer": "ipython3", 
            "codemirror_mode": {
                "version": 3, 
                "name": "ipython"
            }
        }
    }, 
    "nbformat": 4
}